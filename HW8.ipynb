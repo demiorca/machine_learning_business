{
 "cells": [
  {
   "cell_type": "markdown",
   "id": "0dcaed1b-8436-4cdb-b848-4550b686d00d",
   "metadata": {},
   "source": [
    "### Теоретическая часть"
   ]
  },
  {
   "cell_type": "markdown",
   "id": "2e757f63-9298-48b5-9a65-ada636a8c4aa",
   "metadata": {},
   "source": [
    "#### 1. Если мы рассчитали 95% доверительный интервал для среднего значения, то какие из следующих утверждений являются верными?"
   ]
  },
  {
   "cell_type": "markdown",
   "id": "97a7660c-e72c-4b98-b54a-70c35417d91e",
   "metadata": {},
   "source": [
    "##### Ответ: 2, 3\n",
    "##### 2) Мы можем быть на 95% уверены, что среднее значение в генеральной совокупности принадлежит рассчитанному доверительному интервалу.\n",
    "##### 3) Если многократно повторять эксперимент, для каждой выборки рассчитывать свой доверительный интервал, то в 95 % случаев истинное среднее будет находиться внутри доверительного интервала."
   ]
  },
  {
   "cell_type": "markdown",
   "id": "d26e36b9-2186-4d97-a298-554c536d3152",
   "metadata": {},
   "source": [
    "#### 2. Если мы увеличиваем объём выборки в два раза (при условии, что показатель стандартного отклонения остается неизменным), то 95% доверительный интервал:"
   ]
  },
  {
   "cell_type": "markdown",
   "id": "c45ac9ad-6fd4-404d-8432-e41399a569ce",
   "metadata": {},
   "source": [
    "##### 1) Стал более узким"
   ]
  },
  {
   "cell_type": "markdown",
   "id": "dcef5ce8-e6d3-4fcc-8c23-044dff7281ce",
   "metadata": {},
   "source": [
    "#### 3. В центре 95% доверительного интервала, рассчитанного по выборочным значениям, находится:"
   ]
  },
  {
   "cell_type": "markdown",
   "id": "a9da906f-481e-4e7e-b0c5-9fa6be8c628a",
   "metadata": {},
   "source": [
    "##### 2) Выборочное среднее значение"
   ]
  },
  {
   "cell_type": "markdown",
   "id": "0d0899f7-b1be-4195-8d04-9a1b8a055677",
   "metadata": {},
   "source": [
    "#### 4. Часто на практике нулевая гипотеза отклоняется, и различия считаются статистически достоверными, если p < 0,05. Однако часто в статистике используется более жёсткий критерий достоверности различий, например, при условии, что p < 0,01. Значение p-уровня значимости, которое выбирается, в качестве порога обозначается буквой α (альфа). Например, если исследователь решил, что α = 0,05, то и нулевая гипотеза будет отклоняться при условии, что p < 0,05.\n",
    "\n",
    "#### Если в определённой ситуации весьма рискованно отклонить нулевую гипотезу, когда она на самом деле верна, то лучше использовать показатель α равный:"
   ]
  },
  {
   "cell_type": "markdown",
   "id": "bd9d3283-ba0c-40fd-8f46-dbe96a1c7915",
   "metadata": {},
   "source": [
    "##### 2) 0,001"
   ]
  },
  {
   "cell_type": "markdown",
   "id": "2ee94cf7-065e-4de6-958b-3d3fb51f9f81",
   "metadata": {},
   "source": [
    "#### 5. Данные некоторого исследования сообщают нам, что средний рост детей в 14 лет составляет 166 сантиметров. Однако это лишь выборочная оценка, и исследователи рассчитали 95% доверительный интервал, который составил [160, 172]. Укажите верные утверждения:"
   ]
  },
  {
   "cell_type": "markdown",
   "id": "cc0e90f8-a120-4ecf-8dfe-116c6cca643b",
   "metadata": {},
   "source": [
    "##### 1) У нас достаточно оснований отклонить нулевую гипотезу, что среднее в генеральной совокупности равняется 173.\n",
    "##### 3) У нас достаточно оснований отклонить нулевую гипотезу, что среднее в генеральной совокупности равняется 158."
   ]
  },
  {
   "cell_type": "markdown",
   "id": "576b6d5d-112d-4610-be2a-4a9967e07b62",
   "metadata": {},
   "source": [
    "#### 6. Предположим, нулевой гипотезой вашего исследования являлось предположение, что конверсия в генеральной совокупности равняется 0.4. Вы получили p = 0,12 и не смогли отклонить нулевую гипотезу. Однако позже выяснилось, что конверсия в генеральной совокупности действительно равна 0.4. Как можно оценить результаты?"
   ]
  },
  {
   "cell_type": "markdown",
   "id": "c644dfb2-b5ba-4ef0-8c5b-08eeaabad433",
   "metadata": {},
   "source": [
    "##### 1) Вы не совершали ни ошибку первого рода, ни ошибку второго рода.\n",
    "##### Так как ошибка первого рода заключается в том, чтобы отклонить верную нулевую гипотезу, то мы здесь её не совершаем, поскольку нулевую гипотезу не отклонили, а она оказалась верной. Ошибка второго рода заключается в том, чтобы принять нулевую гипотезу, когда верна альтернативная. Гипотезу приняли, но альтернативная гипотеза не является верной. Поэтому здесь не совершается ошибка ни первого рода, ни второго. "
   ]
  },
  {
   "cell_type": "markdown",
   "id": "ed393732-3d2e-4797-bce1-6661043eb74d",
   "metadata": {},
   "source": [
    "### Практическая часть"
   ]
  },
  {
   "cell_type": "code",
   "execution_count": 1,
   "id": "631e1989-40d9-49aa-bc5c-dc9e9e0c48e6",
   "metadata": {},
   "outputs": [],
   "source": [
    "import pandas as pd\n",
    "import numpy as np\n",
    "import random\n",
    "import statsmodels.api as sm\n",
    "import statsmodels\n",
    "import scipy.stats as sts\n",
    "from sklearn.utils import resample\n",
    "import matplotlib.pyplot as plt\n",
    "%matplotlib inline\n",
    "\n",
    "random.seed(41)"
   ]
  },
  {
   "cell_type": "code",
   "execution_count": 2,
   "id": "c1063e11-2bfd-4f6a-b2ab-99a956925b66",
   "metadata": {},
   "outputs": [
    {
     "data": {
      "text/html": [
       "<div>\n",
       "<style scoped>\n",
       "    .dataframe tbody tr th:only-of-type {\n",
       "        vertical-align: middle;\n",
       "    }\n",
       "\n",
       "    .dataframe tbody tr th {\n",
       "        vertical-align: top;\n",
       "    }\n",
       "\n",
       "    .dataframe thead th {\n",
       "        text-align: right;\n",
       "    }\n",
       "</style>\n",
       "<table border=\"1\" class=\"dataframe\">\n",
       "  <thead>\n",
       "    <tr style=\"text-align: right;\">\n",
       "      <th></th>\n",
       "      <th>user_id</th>\n",
       "      <th>timestamp</th>\n",
       "      <th>group</th>\n",
       "      <th>landing_page</th>\n",
       "      <th>converted</th>\n",
       "      <th>revenue</th>\n",
       "    </tr>\n",
       "  </thead>\n",
       "  <tbody>\n",
       "    <tr>\n",
       "      <th>0</th>\n",
       "      <td>851104</td>\n",
       "      <td>2017-01-21 22:11:48.556739</td>\n",
       "      <td>control</td>\n",
       "      <td>old_page</td>\n",
       "      <td>0</td>\n",
       "      <td>0</td>\n",
       "    </tr>\n",
       "    <tr>\n",
       "      <th>1</th>\n",
       "      <td>804228</td>\n",
       "      <td>2017-01-12 08:01:45.159739</td>\n",
       "      <td>control</td>\n",
       "      <td>old_page</td>\n",
       "      <td>0</td>\n",
       "      <td>0</td>\n",
       "    </tr>\n",
       "    <tr>\n",
       "      <th>2</th>\n",
       "      <td>661590</td>\n",
       "      <td>2017-01-11 16:55:06.154213</td>\n",
       "      <td>treatment</td>\n",
       "      <td>new_page</td>\n",
       "      <td>0</td>\n",
       "      <td>100</td>\n",
       "    </tr>\n",
       "    <tr>\n",
       "      <th>3</th>\n",
       "      <td>853541</td>\n",
       "      <td>2017-01-08 18:28:03.143765</td>\n",
       "      <td>treatment</td>\n",
       "      <td>new_page</td>\n",
       "      <td>0</td>\n",
       "      <td>0</td>\n",
       "    </tr>\n",
       "  </tbody>\n",
       "</table>\n",
       "</div>"
      ],
      "text/plain": [
       "   user_id                   timestamp      group landing_page  converted  \\\n",
       "0   851104  2017-01-21 22:11:48.556739    control     old_page          0   \n",
       "1   804228  2017-01-12 08:01:45.159739    control     old_page          0   \n",
       "2   661590  2017-01-11 16:55:06.154213  treatment     new_page          0   \n",
       "3   853541  2017-01-08 18:28:03.143765  treatment     new_page          0   \n",
       "\n",
       "   revenue  \n",
       "0        0  \n",
       "1        0  \n",
       "2      100  \n",
       "3        0  "
      ]
     },
     "execution_count": 2,
     "metadata": {},
     "output_type": "execute_result"
    }
   ],
   "source": [
    "df = pd.read_csv('ab_datas.csv')\n",
    "df.head(4)"
   ]
  },
  {
   "cell_type": "code",
   "execution_count": 3,
   "id": "5b23ad6a-0fee-4dea-a8b7-8d4e68f712d4",
   "metadata": {},
   "outputs": [
    {
     "name": "stdout",
     "output_type": "stream",
     "text": [
      "<class 'pandas.core.frame.DataFrame'>\n",
      "RangeIndex: 294478 entries, 0 to 294477\n",
      "Data columns (total 6 columns):\n",
      " #   Column        Non-Null Count   Dtype \n",
      "---  ------        --------------   ----- \n",
      " 0   user_id       294478 non-null  int64 \n",
      " 1   timestamp     294478 non-null  object\n",
      " 2   group         294478 non-null  object\n",
      " 3   landing_page  294478 non-null  object\n",
      " 4   converted     294478 non-null  int64 \n",
      " 5   revenue       294478 non-null  int64 \n",
      "dtypes: int64(3), object(3)\n",
      "memory usage: 13.5+ MB\n"
     ]
    }
   ],
   "source": [
    "df.info()"
   ]
  },
  {
   "cell_type": "code",
   "execution_count": 4,
   "id": "2bb55fc7-99a9-48c8-a204-5a773716210a",
   "metadata": {},
   "outputs": [
    {
     "data": {
      "text/html": [
       "<div>\n",
       "<style scoped>\n",
       "    .dataframe tbody tr th:only-of-type {\n",
       "        vertical-align: middle;\n",
       "    }\n",
       "\n",
       "    .dataframe tbody tr th {\n",
       "        vertical-align: top;\n",
       "    }\n",
       "\n",
       "    .dataframe thead th {\n",
       "        text-align: right;\n",
       "    }\n",
       "</style>\n",
       "<table border=\"1\" class=\"dataframe\">\n",
       "  <thead>\n",
       "    <tr style=\"text-align: right;\">\n",
       "      <th></th>\n",
       "      <th>user_id</th>\n",
       "      <th>converted</th>\n",
       "      <th>revenue</th>\n",
       "    </tr>\n",
       "  </thead>\n",
       "  <tbody>\n",
       "    <tr>\n",
       "      <th>count</th>\n",
       "      <td>294478.000000</td>\n",
       "      <td>294478.000000</td>\n",
       "      <td>294478.000000</td>\n",
       "    </tr>\n",
       "    <tr>\n",
       "      <th>mean</th>\n",
       "      <td>787974.124733</td>\n",
       "      <td>0.119659</td>\n",
       "      <td>101.967719</td>\n",
       "    </tr>\n",
       "    <tr>\n",
       "      <th>std</th>\n",
       "      <td>91210.823776</td>\n",
       "      <td>0.324563</td>\n",
       "      <td>103.602744</td>\n",
       "    </tr>\n",
       "    <tr>\n",
       "      <th>min</th>\n",
       "      <td>630000.000000</td>\n",
       "      <td>0.000000</td>\n",
       "      <td>0.000000</td>\n",
       "    </tr>\n",
       "    <tr>\n",
       "      <th>25%</th>\n",
       "      <td>709032.250000</td>\n",
       "      <td>0.000000</td>\n",
       "      <td>0.000000</td>\n",
       "    </tr>\n",
       "    <tr>\n",
       "      <th>50%</th>\n",
       "      <td>787933.500000</td>\n",
       "      <td>0.000000</td>\n",
       "      <td>100.000000</td>\n",
       "    </tr>\n",
       "    <tr>\n",
       "      <th>75%</th>\n",
       "      <td>866911.750000</td>\n",
       "      <td>0.000000</td>\n",
       "      <td>250.000000</td>\n",
       "    </tr>\n",
       "    <tr>\n",
       "      <th>max</th>\n",
       "      <td>945999.000000</td>\n",
       "      <td>1.000000</td>\n",
       "      <td>250.000000</td>\n",
       "    </tr>\n",
       "  </tbody>\n",
       "</table>\n",
       "</div>"
      ],
      "text/plain": [
       "             user_id      converted        revenue\n",
       "count  294478.000000  294478.000000  294478.000000\n",
       "mean   787974.124733       0.119659     101.967719\n",
       "std     91210.823776       0.324563     103.602744\n",
       "min    630000.000000       0.000000       0.000000\n",
       "25%    709032.250000       0.000000       0.000000\n",
       "50%    787933.500000       0.000000     100.000000\n",
       "75%    866911.750000       0.000000     250.000000\n",
       "max    945999.000000       1.000000     250.000000"
      ]
     },
     "execution_count": 4,
     "metadata": {},
     "output_type": "execute_result"
    }
   ],
   "source": [
    "df.describe()"
   ]
  },
  {
   "cell_type": "code",
   "execution_count": 5,
   "id": "ae147a1d-3134-4dfd-8ed4-3f05a528f6fb",
   "metadata": {},
   "outputs": [
    {
     "name": "stdout",
     "output_type": "stream",
     "text": [
      "Число строк: 294478\n"
     ]
    }
   ],
   "source": [
    "n_rows = df.shape[0]\n",
    "print(f'Число строк: {n_rows}')"
   ]
  },
  {
   "cell_type": "code",
   "execution_count": 6,
   "id": "9b3fb938-b1f6-4948-8b05-f9cd1caccf42",
   "metadata": {},
   "outputs": [
    {
     "name": "stdout",
     "output_type": "stream",
     "text": [
      "Число уникальных пользователей: 290584\n"
     ]
    }
   ],
   "source": [
    "user_total = df.nunique()['user_id']\n",
    "print(f'Число уникальных пользователей: {user_total}')"
   ]
  },
  {
   "cell_type": "code",
   "execution_count": 7,
   "id": "e1ea2b56-84fa-4636-b04f-326034e7ae0e",
   "metadata": {},
   "outputs": [
    {
     "name": "stdout",
     "output_type": "stream",
     "text": [
      "Из тестовой группы неверно направлены 1965 пользователей\n",
      "Из контрольной группы неверно направлены 1928 пользователей\n"
     ]
    }
   ],
   "source": [
    "mismatch_1 = df.query(\"group == 'treatment' and landing_page == 'old_page'\")\n",
    "print(f'Из тестовой группы неверно направлены {len(mismatch_1)} пользователей')\n",
    "\n",
    "mismatch_2 = df.query(\"group == 'control' and landing_page == 'new_page'\")\n",
    "print(f'Из контрольной группы неверно направлены {len(mismatch_2)} пользователей')"
   ]
  },
  {
   "cell_type": "code",
   "execution_count": 8,
   "id": "6df22692-6e43-4dcc-b186-9c7e46245bbf",
   "metadata": {},
   "outputs": [
    {
     "data": {
      "text/plain": [
       "101.9677191504968"
      ]
     },
     "execution_count": 8,
     "metadata": {},
     "output_type": "execute_result"
    }
   ],
   "source": [
    "sum(df['revenue'].values) / n_rows"
   ]
  },
  {
   "cell_type": "code",
   "execution_count": 9,
   "id": "09f32cef-5d44-466b-a0b0-aa870c1f6efd",
   "metadata": {},
   "outputs": [
    {
     "data": {
      "text/html": [
       "<div>\n",
       "<style scoped>\n",
       "    .dataframe tbody tr th:only-of-type {\n",
       "        vertical-align: middle;\n",
       "    }\n",
       "\n",
       "    .dataframe tbody tr th {\n",
       "        vertical-align: top;\n",
       "    }\n",
       "\n",
       "    .dataframe thead tr th {\n",
       "        text-align: left;\n",
       "    }\n",
       "\n",
       "    .dataframe thead tr:last-of-type th {\n",
       "        text-align: right;\n",
       "    }\n",
       "</style>\n",
       "<table border=\"1\" class=\"dataframe\">\n",
       "  <thead>\n",
       "    <tr>\n",
       "      <th></th>\n",
       "      <th colspan=\"8\" halign=\"left\">user_id</th>\n",
       "      <th colspan=\"5\" halign=\"left\">converted</th>\n",
       "      <th colspan=\"8\" halign=\"left\">revenue</th>\n",
       "    </tr>\n",
       "    <tr>\n",
       "      <th></th>\n",
       "      <th>count</th>\n",
       "      <th>mean</th>\n",
       "      <th>std</th>\n",
       "      <th>min</th>\n",
       "      <th>25%</th>\n",
       "      <th>50%</th>\n",
       "      <th>75%</th>\n",
       "      <th>max</th>\n",
       "      <th>count</th>\n",
       "      <th>mean</th>\n",
       "      <th>...</th>\n",
       "      <th>75%</th>\n",
       "      <th>max</th>\n",
       "      <th>count</th>\n",
       "      <th>mean</th>\n",
       "      <th>std</th>\n",
       "      <th>min</th>\n",
       "      <th>25%</th>\n",
       "      <th>50%</th>\n",
       "      <th>75%</th>\n",
       "      <th>max</th>\n",
       "    </tr>\n",
       "    <tr>\n",
       "      <th>group</th>\n",
       "      <th></th>\n",
       "      <th></th>\n",
       "      <th></th>\n",
       "      <th></th>\n",
       "      <th></th>\n",
       "      <th></th>\n",
       "      <th></th>\n",
       "      <th></th>\n",
       "      <th></th>\n",
       "      <th></th>\n",
       "      <th></th>\n",
       "      <th></th>\n",
       "      <th></th>\n",
       "      <th></th>\n",
       "      <th></th>\n",
       "      <th></th>\n",
       "      <th></th>\n",
       "      <th></th>\n",
       "      <th></th>\n",
       "      <th></th>\n",
       "      <th></th>\n",
       "    </tr>\n",
       "  </thead>\n",
       "  <tbody>\n",
       "    <tr>\n",
       "      <th>control</th>\n",
       "      <td>147202.0</td>\n",
       "      <td>788123.098035</td>\n",
       "      <td>91278.896888</td>\n",
       "      <td>630002.0</td>\n",
       "      <td>709287.0</td>\n",
       "      <td>788053.5</td>\n",
       "      <td>867155.50</td>\n",
       "      <td>945998.0</td>\n",
       "      <td>147202.0</td>\n",
       "      <td>0.120399</td>\n",
       "      <td>...</td>\n",
       "      <td>0.0</td>\n",
       "      <td>1.0</td>\n",
       "      <td>147202.0</td>\n",
       "      <td>87.431896</td>\n",
       "      <td>102.424926</td>\n",
       "      <td>0.0</td>\n",
       "      <td>0.0</td>\n",
       "      <td>0.0</td>\n",
       "      <td>250.0</td>\n",
       "      <td>250.0</td>\n",
       "    </tr>\n",
       "    <tr>\n",
       "      <th>treatment</th>\n",
       "      <td>147276.0</td>\n",
       "      <td>787825.226283</td>\n",
       "      <td>91142.800641</td>\n",
       "      <td>630000.0</td>\n",
       "      <td>708729.5</td>\n",
       "      <td>787837.5</td>\n",
       "      <td>866693.75</td>\n",
       "      <td>945999.0</td>\n",
       "      <td>147276.0</td>\n",
       "      <td>0.118920</td>\n",
       "      <td>...</td>\n",
       "      <td>0.0</td>\n",
       "      <td>1.0</td>\n",
       "      <td>147276.0</td>\n",
       "      <td>116.496238</td>\n",
       "      <td>102.732069</td>\n",
       "      <td>0.0</td>\n",
       "      <td>0.0</td>\n",
       "      <td>100.0</td>\n",
       "      <td>250.0</td>\n",
       "      <td>250.0</td>\n",
       "    </tr>\n",
       "  </tbody>\n",
       "</table>\n",
       "<p>2 rows × 24 columns</p>\n",
       "</div>"
      ],
      "text/plain": [
       "            user_id                                                   \\\n",
       "              count           mean           std       min       25%   \n",
       "group                                                                  \n",
       "control    147202.0  788123.098035  91278.896888  630002.0  709287.0   \n",
       "treatment  147276.0  787825.226283  91142.800641  630000.0  708729.5   \n",
       "\n",
       "                                         converted            ...            \\\n",
       "                50%        75%       max     count      mean  ...  75%  max   \n",
       "group                                                         ...             \n",
       "control    788053.5  867155.50  945998.0  147202.0  0.120399  ...  0.0  1.0   \n",
       "treatment  787837.5  866693.75  945999.0  147276.0  0.118920  ...  0.0  1.0   \n",
       "\n",
       "            revenue                                                         \n",
       "              count        mean         std  min  25%    50%    75%    max  \n",
       "group                                                                       \n",
       "control    147202.0   87.431896  102.424926  0.0  0.0    0.0  250.0  250.0  \n",
       "treatment  147276.0  116.496238  102.732069  0.0  0.0  100.0  250.0  250.0  \n",
       "\n",
       "[2 rows x 24 columns]"
      ]
     },
     "execution_count": 9,
     "metadata": {},
     "output_type": "execute_result"
    }
   ],
   "source": [
    "df_grp = df.groupby('group')\n",
    "df_grp.describe()"
   ]
  },
  {
   "cell_type": "code",
   "execution_count": 10,
   "id": "6363480b-5b7a-4446-9a53-2b17281080fb",
   "metadata": {},
   "outputs": [
    {
     "name": "stdout",
     "output_type": "stream",
     "text": [
      "Соотношение размеров тестовой и контрольной групп: 1.0005027105609978\n",
      "Вероятность, что новый пользователь будет направлен на версию со старым дизайном: 0.5001256460584492\n",
      "Вероятность, что новый пользователь будет направлен на версию с новым дизайном: 0.49987435394155083\n"
     ]
    }
   ],
   "source": [
    "#объём тестовой группы\n",
    "n_rows_treat = len(df[df['group'] == 'treatment'])\n",
    "\n",
    "#объём контрольной группы\n",
    "n_rows_contr = n_rows - n_rows_treat\n",
    "\n",
    "print(f'Соотношение размеров тестовой и контрольной групп: {n_rows_treat / n_rows_contr}')\n",
    "print(f'Вероятность, что новый пользователь будет направлен на версию со старым дизайном: {n_rows_treat / n_rows}')\n",
    "print(f'Вероятность, что новый пользователь будет направлен на версию с новым дизайном: {n_rows_contr / n_rows}')"
   ]
  },
  {
   "cell_type": "code",
   "execution_count": 11,
   "id": "5edbb991-8a4e-457c-9a56-8b4e16bddc8b",
   "metadata": {},
   "outputs": [
    {
     "name": "stdout",
     "output_type": "stream",
     "text": [
      "Z-статистика = 2.032384860914258,  p_value = 0.04211470949619333\n"
     ]
    }
   ],
   "source": [
    "revenue_contr = df.query(\"group == 'control'\")['revenue'].mean()\n",
    "revenue_treat = df.query(\"group == 'treatment'\")['revenue'].mean()\n",
    "\n",
    "z_score, p_value = sm.stats.proportions_ztest([revenue_treat, revenue_contr], [n_rows_treat, n_rows_contr])\n",
    "\n",
    "print(f'Z-статистика = {z_score},  p_value = {p_value}')"
   ]
  },
  {
   "cell_type": "code",
   "execution_count": 12,
   "id": "48454b0f-f0c5-49ce-8f53-02f46aa1e2b2",
   "metadata": {},
   "outputs": [
    {
     "data": {
      "image/png": "[encoded data removed]",
      "text/plain": [
       "<Figure size 432x288 with 1 Axes>"
      ]
     },
     "metadata": {
      "needs_background": "light"
     },
     "output_type": "display_data"
    }
   ],
   "source": [
    "plt.hist(df.loc[df['group']=='treatment', 'revenue']);"
   ]
  },
  {
   "cell_type": "code",
   "execution_count": 13,
   "id": "1bec63cd-5265-4e83-8477-7f90e9488a63",
   "metadata": {},
   "outputs": [
    {
     "data": {
      "image/png": "[encoded data removed]",
      "text/plain": [
       "<Figure size 432x288 with 1 Axes>"
      ]
     },
     "metadata": {
      "needs_background": "light"
     },
     "output_type": "display_data"
    }
   ],
   "source": [
    "plt.hist(df.loc[df['group']=='control', 'revenue']);"
   ]
  },
  {
   "cell_type": "code",
   "execution_count": 14,
   "id": "b1570052-f5d9-416e-8554-55cd5cc67234",
   "metadata": {},
   "outputs": [],
   "source": [
    "a = df.loc[df['group']=='control', 'revenue'].values\n",
    "b = df.loc[df['group']=='treatment', 'revenue'].values"
   ]
  },
  {
   "cell_type": "code",
   "execution_count": 15,
   "id": "c2b629f4-d5a6-4c25-b619-439c01aa65cc",
   "metadata": {},
   "outputs": [],
   "source": [
    "a_means = []\n",
    "b_means = []\n",
    "\n",
    "for i in range(10000):\n",
    "    a_boot = resample(a, replace=True, n_samples=len(a))\n",
    "    b_boot = resample(b, replace=True, n_samples=len(b))\n",
    "    \n",
    "    a_means.append(a_boot.mean())\n",
    "    b_means.append(b_boot.mean())\n",
    "    \n",
    "a_means = np.array(a_means)\n",
    "b_means = np.array(b_means)"
   ]
  },
  {
   "cell_type": "code",
   "execution_count": 16,
   "id": "9ca34505-9490-4eb2-a706-d75e1cd5f11d",
   "metadata": {},
   "outputs": [
    {
     "data": {
      "image/png": "[encoded data removed]",
      "text/plain": [
       "<Figure size 432x288 with 1 Axes>"
      ]
     },
     "metadata": {
      "needs_background": "light"
     },
     "output_type": "display_data"
    }
   ],
   "source": [
    "plt.hist(a_means, label='A conv', alpha=0.5, bins=100)\n",
    "plt.hist(b_means, label='B conv', alpha=0.5, bins=100)\n",
    "\n",
    "plt.legend()\n",
    "plt.show()"
   ]
  },
  {
   "cell_type": "markdown",
   "id": "1f52209f-c340-4b1b-ac72-4891d6c742f1",
   "metadata": {},
   "source": [
    "Средний чек выше, пользователи тестовой группы покупают больше, но посчитанная статистика говорит о том, что результат является статистически незначимым."
   ]
  },
  {
   "cell_type": "code",
   "execution_count": null,
   "id": "4fb0ca61-1ec0-4e70-90ed-961236872f4c",
   "metadata": {},
   "outputs": [],
   "source": []
  }
 ],
 "metadata": {
  "kernelspec": {
   "display_name": "Python 3 (ipykernel)",
   "language": "python",
   "name": "python3"
  },
  "language_info": {
   "codemirror_mode": {
    "name": "ipython",
    "version": 3
   },
   "file_extension": ".py",
   "mimetype": "text/x-python",
   "name": "python",
   "nbconvert_exporter": "python",
   "pygments_lexer": "ipython3",
   "version": "3.9.12"
  }
 },
 "nbformat": 4,
 "nbformat_minor": 5
}
